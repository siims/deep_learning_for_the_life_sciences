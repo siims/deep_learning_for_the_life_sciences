{
  "nbformat": 4,
  "nbformat_minor": 0,
  "metadata": {
    "accelerator": "GPU",
    "colab": {
      "name": "Experimenting with protein binding (deepchem chapter 5).ipynb",
      "provenance": [],
      "collapsed_sections": []
    },
    "kernelspec": {
      "display_name": "Python 3",
      "language": "python",
      "name": "python3"
    },
    "language_info": {
      "codemirror_mode": {
        "name": "ipython",
        "version": 3
      },
      "file_extension": ".py",
      "mimetype": "text/x-python",
      "name": "python",
      "nbconvert_exporter": "python",
      "pygments_lexer": "ipython3",
      "version": "3.7.6"
    }
  },
  "cells": [
    {
      "cell_type": "markdown",
      "metadata": {
        "id": "MDXmIhYHc_93"
      },
      "source": [
        "## Install deepchem"
      ]
    },
    {
      "cell_type": "markdown",
      "metadata": {
        "id": "6Nz_qCDCL8ij"
      },
      "source": [
        "### Colab"
      ]
    },
    {
      "cell_type": "code",
      "metadata": {
        "id": "bhZ3pQn7c54i",
        "outputId": "9281c637-a25d-418a-ce23-1281dbc90fbe",
        "colab": {
          "base_uri": "https://localhost:8080/",
          "height": 323
        }
      },
      "source": [
        "!curl -Lo conda_installer.py https://raw.githubusercontent.com/deepchem/deepchem/master/scripts/colab_install.py\n",
        "import conda_installer\n",
        "conda_installer.install()\n",
        "!/root/miniconda/bin/conda info -e"
      ],
      "execution_count": 1,
      "outputs": [
        {
          "output_type": "stream",
          "text": [
            "  % Total    % Received % Xferd  Average Speed   Time    Time     Time  Current\n",
            "                                 Dload  Upload   Total   Spent    Left  Speed\n",
            "100  3490  100  3490    0     0  13960      0 --:--:-- --:--:-- --:--:-- 13960\n"
          ],
          "name": "stdout"
        },
        {
          "output_type": "stream",
          "text": [
            "add /root/miniconda/lib/python3.6/site-packages to PYTHONPATH\n",
            "python version: 3.6.9\n",
            "fetching installer from https://repo.continuum.io/miniconda/Miniconda3-latest-Linux-x86_64.sh\n",
            "done\n",
            "installing miniconda to /root/miniconda\n",
            "done\n",
            "installing rdkit, openmm, pdbfixer\n",
            "added omnia to channels\n",
            "added conda-forge to channels\n",
            "done\n",
            "conda packages installation finished!\n"
          ],
          "name": "stderr"
        },
        {
          "output_type": "stream",
          "text": [
            "# conda environments:\n",
            "#\n",
            "base                  *  /root/miniconda\n",
            "\n"
          ],
          "name": "stdout"
        }
      ]
    },
    {
      "cell_type": "code",
      "metadata": {
        "id": "CnQXCr6pdFTB",
        "outputId": "a0fd5d6f-a84e-4a08-f3b4-d6947b272222",
        "colab": {
          "base_uri": "https://localhost:8080/",
          "height": 341
        }
      },
      "source": [
        "!pip install --pre deepchem-nightly==2.3.0\n",
        "import deepchem\n",
        "deepchem.__version__"
      ],
      "execution_count": 2,
      "outputs": [
        {
          "output_type": "stream",
          "text": [
            "Collecting deepchem-nightly==2.3.0\n",
            "\u001b[?25l  Downloading https://files.pythonhosted.org/packages/06/86/e83fe3a6c6e93643269cbd9fc28861b147ba9286ee227ed775834cd01e59/deepchem-nightly-2.3.0.tar.gz (308kB)\n",
            "\r\u001b[K     |█                               | 10kB 15.6MB/s eta 0:00:01\r\u001b[K     |██▏                             | 20kB 4.6MB/s eta 0:00:01\r\u001b[K     |███▏                            | 30kB 5.8MB/s eta 0:00:01\r\u001b[K     |████▎                           | 40kB 6.0MB/s eta 0:00:01\r\u001b[K     |█████▎                          | 51kB 5.1MB/s eta 0:00:01\r\u001b[K     |██████▍                         | 61kB 5.4MB/s eta 0:00:01\r\u001b[K     |███████▌                        | 71kB 5.9MB/s eta 0:00:01\r\u001b[K     |████████▌                       | 81kB 6.5MB/s eta 0:00:01\r\u001b[K     |█████████▋                      | 92kB 7.0MB/s eta 0:00:01\r\u001b[K     |██████████▋                     | 102kB 7.0MB/s eta 0:00:01\r\u001b[K     |███████████▊                    | 112kB 7.0MB/s eta 0:00:01\r\u001b[K     |████████████▊                   | 122kB 7.0MB/s eta 0:00:01\r\u001b[K     |█████████████▉                  | 133kB 7.0MB/s eta 0:00:01\r\u001b[K     |███████████████                 | 143kB 7.0MB/s eta 0:00:01\r\u001b[K     |████████████████                | 153kB 7.0MB/s eta 0:00:01\r\u001b[K     |█████████████████               | 163kB 7.0MB/s eta 0:00:01\r\u001b[K     |██████████████████              | 174kB 7.0MB/s eta 0:00:01\r\u001b[K     |███████████████████▏            | 184kB 7.0MB/s eta 0:00:01\r\u001b[K     |████████████████████▏           | 194kB 7.0MB/s eta 0:00:01\r\u001b[K     |█████████████████████▎          | 204kB 7.0MB/s eta 0:00:01\r\u001b[K     |██████████████████████▍         | 215kB 7.0MB/s eta 0:00:01\r\u001b[K     |███████████████████████▍        | 225kB 7.0MB/s eta 0:00:01\r\u001b[K     |████████████████████████▌       | 235kB 7.0MB/s eta 0:00:01\r\u001b[K     |█████████████████████████▌      | 245kB 7.0MB/s eta 0:00:01\r\u001b[K     |██████████████████████████▋     | 256kB 7.0MB/s eta 0:00:01\r\u001b[K     |███████████████████████████▋    | 266kB 7.0MB/s eta 0:00:01\r\u001b[K     |████████████████████████████▊   | 276kB 7.0MB/s eta 0:00:01\r\u001b[K     |█████████████████████████████▉  | 286kB 7.0MB/s eta 0:00:01\r\u001b[K     |██████████████████████████████▉ | 296kB 7.0MB/s eta 0:00:01\r\u001b[K     |████████████████████████████████| 307kB 7.0MB/s eta 0:00:01\r\u001b[K     |████████████████████████████████| 317kB 7.0MB/s \n",
            "\u001b[?25hRequirement already satisfied: joblib in /usr/local/lib/python3.6/dist-packages (from deepchem-nightly==2.3.0) (0.16.0)\n",
            "Requirement already satisfied: numpy in /usr/local/lib/python3.6/dist-packages (from deepchem-nightly==2.3.0) (1.18.5)\n",
            "Requirement already satisfied: pandas in /usr/local/lib/python3.6/dist-packages (from deepchem-nightly==2.3.0) (1.1.2)\n",
            "Requirement already satisfied: scikit-learn in /usr/local/lib/python3.6/dist-packages (from deepchem-nightly==2.3.0) (0.22.2.post1)\n",
            "Requirement already satisfied: scipy in /usr/local/lib/python3.6/dist-packages (from deepchem-nightly==2.3.0) (1.4.1)\n",
            "Requirement already satisfied: pytz>=2017.2 in /usr/local/lib/python3.6/dist-packages (from pandas->deepchem-nightly==2.3.0) (2018.9)\n",
            "Requirement already satisfied: python-dateutil>=2.7.3 in /usr/local/lib/python3.6/dist-packages (from pandas->deepchem-nightly==2.3.0) (2.8.1)\n",
            "Requirement already satisfied: six>=1.5 in /usr/local/lib/python3.6/dist-packages (from python-dateutil>=2.7.3->pandas->deepchem-nightly==2.3.0) (1.15.0)\n",
            "Building wheels for collected packages: deepchem-nightly\n",
            "  Building wheel for deepchem-nightly (setup.py) ... \u001b[?25l\u001b[?25hdone\n",
            "  Created wheel for deepchem-nightly: filename=deepchem_nightly-2.3.0-cp36-none-any.whl size=383675 sha256=1d0bc8481df2464a4b37d62cf41f1774f573fa0b4cca97e1b77a9fc8ff093ea9\n",
            "  Stored in directory: /root/.cache/pip/wheels/4e/4c/b9/91b0715869556df7c02a6e580f82c539b5b92aedd1dc91cf84\n",
            "Successfully built deepchem-nightly\n",
            "Installing collected packages: deepchem-nightly\n",
            "Successfully installed deepchem-nightly-2.3.0\n"
          ],
          "name": "stdout"
        },
        {
          "output_type": "execute_result",
          "data": {
            "application/vnd.google.colaboratory.intrinsic+json": {
              "type": "string"
            },
            "text/plain": [
              "'2.3.0'"
            ]
          },
          "metadata": {
            "tags": []
          },
          "execution_count": 2
        }
      ]
    },
    {
      "cell_type": "code",
      "metadata": {
        "id": "82ZLGcRtw_l7",
        "outputId": "20c1f8c2-7b1a-4cd4-a718-26b5a267d8d1",
        "colab": {
          "base_uri": "https://localhost:8080/",
          "height": 52
        }
      },
      "source": [
        "import tensorflow\n",
        "\n",
        "\n",
        "device_name = tensorflow.test.gpu_device_name()\n",
        "if device_name != '/device:GPU:0':\n",
        "  raise SystemError('GPU device not found')\n",
        "print('Found GPU at: {}'.format(device_name))\n",
        "\n",
        "tensorflow.__version__"
      ],
      "execution_count": 3,
      "outputs": [
        {
          "output_type": "stream",
          "text": [
            "Found GPU at: /device:GPU:0\n"
          ],
          "name": "stdout"
        },
        {
          "output_type": "execute_result",
          "data": {
            "application/vnd.google.colaboratory.intrinsic+json": {
              "type": "string"
            },
            "text/plain": [
              "'2.3.0'"
            ]
          },
          "metadata": {
            "tags": []
          },
          "execution_count": 3
        }
      ]
    },
    {
      "cell_type": "markdown",
      "metadata": {
        "id": "Zs6qpJmrL8jU"
      },
      "source": [
        "### Locally\n",
        "\n",
        "Follow instructions here to setup your conda env with deepchem: https://deepchem.readthedocs.io/en/latest/installation.html#conda-installation\n",
        "\n",
        "Additionally install requirements:\n",
        "\n",
        "pip install -r requirements.txt"
      ]
    },
    {
      "cell_type": "markdown",
      "metadata": {
        "id": "Qwr6yb6HZ7FD"
      },
      "source": [
        "## Initialize"
      ]
    },
    {
      "cell_type": "code",
      "metadata": {
        "id": "nWHfkLbueWZ7"
      },
      "source": [
        "import itertools\n",
        "from dataclasses import dataclass\n",
        "from typing import Union, List, Tuple, NoReturn, Optional\n",
        "import random\n",
        "import os\n",
        "\n",
        "import deepchem as dc\n",
        "from deepchem.models import KerasModel\n",
        "from tqdm import tqdm\n",
        "\n",
        "ROOT_DIR = \"/content/drive/My Drive/Colab Notebooks/deep learning for the life sciences/chapter_5_protein_binding\"\n",
        "DATA_DIR = os.path.join(ROOT_DIR, \"data\")"
      ],
      "execution_count": 4,
      "outputs": []
    },
    {
      "cell_type": "code",
      "metadata": {
        "id": "Kfk4ZnVSQUHD",
        "outputId": "f5e73c59-d35b-4164-85bc-28d5e90ce38b",
        "colab": {
          "base_uri": "https://localhost:8080/",
          "height": 34
        }
      },
      "source": [
        "%env DEEPCHEM_DATA_DIR=/content/drive/My Drive/Colab Notebooks/deep learning for the life sciences/chapter_5_protein_binding/data"
      ],
      "execution_count": 5,
      "outputs": [
        {
          "output_type": "stream",
          "text": [
            "env: DEEPCHEM_DATA_DIR=/content/drive/My Drive/Colab Notebooks/deep learning for the life sciences/chapter_5_protein_binding/data\n"
          ],
          "name": "stdout"
        }
      ]
    },
    {
      "cell_type": "code",
      "metadata": {
        "id": "vEQAdcK9qma2",
        "outputId": "06509db0-80ac-4c6e-a6fd-696630c2625d",
        "colab": {
          "base_uri": "https://localhost:8080/",
          "height": 799
        }
      },
      "source": [
        "%env"
      ],
      "execution_count": 6,
      "outputs": [
        {
          "output_type": "execute_result",
          "data": {
            "text/plain": [
              "{'CLICOLOR': '1',\n",
              " 'CLOUDSDK_CONFIG': '/content/.config',\n",
              " 'CLOUDSDK_PYTHON': 'python3',\n",
              " 'COLAB_GPU': '1',\n",
              " 'CUDA_PKG_VERSION': '10-1=10.1.243-1',\n",
              " 'CUDA_VERSION': '10.1.243',\n",
              " 'CUDNN_VERSION': '7.6.5.32',\n",
              " 'DATALAB_SETTINGS_OVERRIDES': '{\"kernelManagerProxyPort\":6000,\"kernelManagerProxyHost\":\"172.28.0.3\",\"jupyterArgs\":[\"--ip=\\\\\"172.28.0.2\\\\\"\"]}',\n",
              " 'DEBIAN_FRONTEND': 'noninteractive',\n",
              " 'DEEPCHEM_DATA_DIR': '/content/drive/My Drive/Colab Notebooks/deep learning for the life sciences/chapter_5_protein_binding/data',\n",
              " 'ENV': '/root/.bashrc',\n",
              " 'GCE_METADATA_TIMEOUT': '0',\n",
              " 'GCS_READ_CACHE_BLOCK_SIZE_MB': '16',\n",
              " 'GIT_PAGER': 'cat',\n",
              " 'GLIBCPP_FORCE_NEW': '1',\n",
              " 'GLIBCXX_FORCE_NEW': '1',\n",
              " 'HOME': '/root',\n",
              " 'HOSTNAME': '3ecb877b3277',\n",
              " 'JPY_PARENT_PID': '24',\n",
              " 'KMP_DUPLICATE_LIB_OK': 'True',\n",
              " 'KMP_INIT_AT_FORK': 'FALSE',\n",
              " 'LANG': 'en_US.UTF-8',\n",
              " 'LAST_FORCED_REBUILD': '20200910',\n",
              " 'LD_LIBRARY_PATH': '/usr/lib64-nvidia',\n",
              " 'LD_PRELOAD': '/usr/lib/x86_64-linux-gnu/libtcmalloc.so.4',\n",
              " 'LIBRARY_PATH': '/usr/local/cuda/lib64/stubs',\n",
              " 'MPLBACKEND': 'module://ipykernel.pylab.backend_inline',\n",
              " 'NCCL_VERSION': '2.7.8',\n",
              " 'NO_GCE_CHECK': 'True',\n",
              " 'NVIDIA_DRIVER_CAPABILITIES': 'compute,utility',\n",
              " 'NVIDIA_REQUIRE_CUDA': 'cuda>=10.1 brand=tesla,driver>=396,driver<397 brand=tesla,driver>=410,driver<411 brand=tesla,driver>=418,driver<419',\n",
              " 'NVIDIA_VISIBLE_DEVICES': 'all',\n",
              " 'OLDPWD': '/',\n",
              " 'PAGER': 'cat',\n",
              " 'PATH': '/usr/local/nvidia/bin:/usr/local/cuda/bin:/usr/local/sbin:/usr/local/bin:/usr/sbin:/usr/bin:/sbin:/bin:/tools/node/bin:/tools/google-cloud-sdk/bin:/opt/bin',\n",
              " 'PWD': '/',\n",
              " 'PYTHONPATH': '/env/python',\n",
              " 'PYTHONWARNINGS': 'ignore:::pip._internal.cli.base_command',\n",
              " 'SHELL': '/bin/bash',\n",
              " 'SHLVL': '1',\n",
              " 'TBE_CREDS_ADDR': '172.28.0.1:8008',\n",
              " 'TERM': 'xterm-color',\n",
              " 'TF2_BEHAVIOR': '1',\n",
              " 'TF_FORCE_GPU_ALLOW_GROWTH': 'true',\n",
              " '_': '/tools/node/bin/node',\n",
              " '__EGL_VENDOR_LIBRARY_DIRS': '/usr/lib64-nvidia:/usr/share/glvnd/egl_vendor.d/'}"
            ]
          },
          "metadata": {
            "tags": []
          },
          "execution_count": 6
        }
      ]
    },
    {
      "cell_type": "code",
      "metadata": {
        "id": "ALjOk6UtsJdH",
        "outputId": "bb071286-0e90-4f10-c3ce-4a4c54bf923d",
        "colab": {
          "base_uri": "https://localhost:8080/",
          "height": 35
        }
      },
      "source": [
        "import os\n",
        "os.environ['DEEPCHEM_DATA_DIR']"
      ],
      "execution_count": 7,
      "outputs": [
        {
          "output_type": "execute_result",
          "data": {
            "application/vnd.google.colaboratory.intrinsic+json": {
              "type": "string"
            },
            "text/plain": [
              "'/content/drive/My Drive/Colab Notebooks/deep learning for the life sciences/chapter_5_protein_binding/data'"
            ]
          },
          "metadata": {
            "tags": []
          },
          "execution_count": 7
        }
      ]
    },
    {
      "cell_type": "markdown",
      "metadata": {
        "id": "5X5JV_bWeFu8"
      },
      "source": [
        "## Load the data"
      ]
    },
    {
      "cell_type": "markdown",
      "metadata": {
        "id": "eF2o-1CBOkWw"
      },
      "source": [
        "### Cached data"
      ]
    },
    {
      "cell_type": "code",
      "metadata": {
        "id": "10vJTlOyOgDI"
      },
      "source": [
        "from google.colab import drive\n",
        "drive.mount('/content/drive')"
      ],
      "execution_count": null,
      "outputs": []
    },
    {
      "cell_type": "code",
      "metadata": {
        "id": "QNF41XIvT_aV"
      },
      "source": [
        "from pathlib import Path\n",
        "import os\n",
        "\n",
        "print(os.listdir(DATA_DIR))\n",
        "print(os.listdir('/content/drive'))"
      ],
      "execution_count": null,
      "outputs": []
    },
    {
      "cell_type": "code",
      "metadata": {
        "id": "_01PfTuoO0ir"
      },
      "source": [
        "# for unmounting\n",
        "# from google.colab import drive\n",
        "# drive.flush_and_unmount()"
      ],
      "execution_count": null,
      "outputs": []
    },
    {
      "cell_type": "code",
      "metadata": {
        "id": "olDr0t7bebrT"
      },
      "source": [
        "pdbbind_tasks, pdbbind_datasets, transformers = dc.molnet.load_pdbbind(\n",
        "    featurizer=\"grid\", split=\"random\", subset=\"core\", data_dir=DATA_DIR, save_dir=os.path.join(DATA_DIR, \"from-pdbbind\"), split_seed=100, reload=True\n",
        ")\n",
        "train_dataset, valid_dataset, test_dataset = pdbbind_datasets"
      ],
      "execution_count": null,
      "outputs": []
    },
    {
      "cell_type": "code",
      "metadata": {
        "id": "li9b7xPBfEuu"
      },
      "source": [
        "@dataclass\n",
        "class OutputModel:\n",
        "    model: dc.models.MultitaskRegressor\n",
        "    layers: List[int]\n",
        "    dropout: Union[float, List[float]]\n",
        "    seed: int\n",
        "    train_score: Optional[float]\n",
        "    test_score: Optional[float]\n",
        "\n",
        "\n",
        "def create_model(\n",
        "    layer_sizes: List[int], dropouts: Union[float, List[float]], learning_rate: float = 0.0003\n",
        ") -> dc.models.MultitaskRegressor:\n",
        "    n_features = train_dataset.X.shape[1]\n",
        "    model = dc.models.MultitaskRegressor(\n",
        "        n_tasks=len(pdbbind_tasks),\n",
        "        n_features=n_features,\n",
        "        layer_sizes=layer_sizes,\n",
        "        dropouts=dropouts,\n",
        "        learning_rate=learning_rate,\n",
        "        model_dir=f\"{ROOT_DIR}/model_dumps/pdbbind_nn__{'-'.join(map(str, layer_sizes))}_dropout_{dropouts}_learningrate_{learning_rate}\",\n",
        "    )\n",
        "    return model\n",
        "\n",
        "\n",
        "def evaluate_model(model: dc.models.MultitaskRegressor) -> Tuple[float, float]:\n",
        "    metric = dc.metrics.Metric(dc.metrics.pearson_r2_score)\n",
        "    train_scores = model.evaluate(train_dataset, [metric], transformers)[\"pearson_r2_score\"]\n",
        "    test_scores = model.evaluate(test_dataset, [metric], transformers)[\"pearson_r2_score\"]\n",
        "    return train_scores, test_scores\n",
        "\n",
        "\n",
        "def visualize_model_output(model: OutputModel) -> NoReturn:\n",
        "    print(\n",
        "        f\"\"\"############################################################\n",
        "Visualizing {model.model.__class__.__name__} model\n",
        "  Training score: {model.train_score}\n",
        "  Test score: {model.test_score}\n",
        "  Hyperparameters: \n",
        "    Layers: {model.layers} \n",
        "    Dropout: {model.dropout}\n",
        "    Seed: {model.seed}\n",
        "\n",
        "Model summary:\n",
        "\"\"\")\n",
        "    model.model.model.summary()\n",
        "    print(\"############################################################\")"
      ],
      "execution_count": null,
      "outputs": []
    },
    {
      "cell_type": "code",
      "metadata": {
        "id": "EB-I-yZhWF1G"
      },
      "source": [
        "layers_list = [\n",
        "    # [125, 62],\n",
        "    # [250, 125],\n",
        "    # [500, 250],\n",
        "    # [1000, 500],\n",
        "    # [2000, 1000],\n",
        "    # [4000, 2000],\n",
        "    [2000, 1000, 500, 250],\n",
        "]\n",
        "\n",
        "dropouts_list = [0.2, 0.5, 0.8]\n",
        "\n",
        "seeds = [0, 10, 100, 1000]\n",
        "\n",
        "hyperparameters = list(itertools.product(layers_list, dropouts_list, seeds))\n",
        "\n",
        "(layers_list, dropouts_list, seeds)"
      ],
      "execution_count": null,
      "outputs": []
    },
    {
      "cell_type": "code",
      "metadata": {
        "id": "9GdPvMu7WuLG"
      },
      "source": [
        "nn_models = []"
      ],
      "execution_count": null,
      "outputs": []
    },
    {
      "cell_type": "code",
      "metadata": {
        "id": "5vINhrq6WU2G"
      },
      "source": [
        "for i in tqdm(range(len(hyperparameters))):\n",
        "    if i < len(models):\n",
        "        continue\n",
        "    layers, dropout, seed = hyperparameters[i]\n",
        "    random.seed(seed)\n",
        "    model = create_model(layer_sizes=layers, dropouts=dropout)\n",
        "    model.fit(train_dataset, nb_epoch=50)\n",
        "    train_score, test_score = evaluate_model(model=model)\n",
        "    models.append(\n",
        "        OutputModel(\n",
        "            model=model,\n",
        "            layers=layers,\n",
        "            dropout=dropout,\n",
        "            seed=seed,\n",
        "            train_score=train_score,\n",
        "            test_score=test_score,\n",
        "        )\n",
        "    )"
      ],
      "execution_count": null,
      "outputs": []
    },
    {
      "cell_type": "code",
      "metadata": {
        "id": "k4lIxOQvWfDW"
      },
      "source": [
        "for model in models:\n",
        "    visualize_model_output(model)"
      ],
      "execution_count": null,
      "outputs": []
    }
  ]
}