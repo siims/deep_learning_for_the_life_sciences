{
 "cells": [
  {
   "cell_type": "markdown",
   "metadata": {
    "id": "MDXmIhYHc_93"
   },
   "source": [
    "## Install deepchem"
   ]
  },
  {
   "cell_type": "markdown",
   "metadata": {},
   "source": [
    "### Colab"
   ]
  },
  {
   "cell_type": "code",
   "execution_count": null,
   "metadata": {
    "colab": {
     "base_uri": "https://localhost:8080/",
     "height": 170.0
    },
    "id": "bhZ3pQn7c54i",
    "outputId": "abe26670-eb13-4a18-bb2a-a3a5d45a46df"
   },
   "outputs": [],
   "source": [
    "!curl -Lo conda_installer.py https://raw.githubusercontent.com/deepchem/deepchem/master/scripts/colab_install.py\n",
    "import conda_installer\n",
    "conda_installer.install()\n",
    "!/root/miniconda/bin/conda info -e"
   ]
  },
  {
   "cell_type": "code",
   "execution_count": null,
   "metadata": {
    "colab": {
     "base_uri": "https://localhost:8080/",
     "height": 208.0
    },
    "id": "CnQXCr6pdFTB",
    "outputId": "4c62c12f-ae1a-43c6-e0ee-06ca6a31db42"
   },
   "outputs": [],
   "source": [
    "!pip install --pre deepchem-nightly==2.3.0\n",
    "import deepchem\n",
    "deepchem.__version__"
   ]
  },
  {
   "cell_type": "code",
   "execution_count": null,
   "metadata": {
    "colab": {
     "base_uri": "https://localhost:8080/",
     "height": 52.0
    },
    "id": "82ZLGcRtw_l7",
    "outputId": "a4d49469-811b-4775-dc43-571a9bac1a83"
   },
   "outputs": [],
   "source": [
    "import tensorflow\n",
    "\n",
    "\n",
    "device_name = tensorflow.test.gpu_device_name()\n",
    "if device_name != '/device:GPU:0':\n",
    "  raise SystemError('GPU device not found')\n",
    "print('Found GPU at: {}'.format(device_name))\n",
    "\n",
    "tensorflow.__version__"
   ]
  },
  {
   "cell_type": "markdown",
   "metadata": {},
   "source": [
    "### Locally"
   ]
  },
  {
   "cell_type": "markdown",
   "metadata": {
    "id": "Qwr6yb6HZ7FD"
   },
   "source": [
    "## Initialize"
   ]
  },
  {
   "cell_type": "code",
   "execution_count": null,
   "metadata": {
    "id": "nWHfkLbueWZ7"
   },
   "outputs": [],
   "source": [
    "import itertools\n",
    "from dataclasses import dataclass\n",
    "from typing import Union, List, Tuple, NoReturn, Optional\n",
    "import random\n",
    "import os\n",
    "\n",
    "import deepchem as dc\n",
    "from deepchem.models import KerasModel\n",
    "from tqdm import tqdm\n",
    "\n",
    "ROOT_DIR = \"/content/drive/My Drive/Colab Notebooks/deep learning for the life sciences/chapter_5_protein_binding\"\n",
    "DATA_DIR = os.path.join(ROOT_DIR, \"data\")"
   ]
  },
  {
   "cell_type": "code",
   "execution_count": null,
   "metadata": {
    "colab": {
     "base_uri": "https://localhost:8080/",
     "height": 34.0
    },
    "id": "Kfk4ZnVSQUHD",
    "outputId": "aad54359-528b-47d3-898b-eb016a7c57a8"
   },
   "outputs": [],
   "source": [
    "%env DEEPCHEM_DATA_DIR=/content/drive/My Drive/Colab Notebooks/deep learning for the life sciences/chapter_5_protein_binding/data"
   ]
  },
  {
   "cell_type": "code",
   "execution_count": null,
   "metadata": {
    "colab": {
     "base_uri": "https://localhost:8080/",
     "height": 819.0
    },
    "id": "vEQAdcK9qma2",
    "outputId": "243a953e-70cb-4201-9f44-971253428d98"
   },
   "outputs": [],
   "source": [
    "%env"
   ]
  },
  {
   "cell_type": "code",
   "execution_count": null,
   "metadata": {
    "colab": {
     "base_uri": "https://localhost:8080/",
     "height": 35.0
    },
    "id": "ALjOk6UtsJdH",
    "outputId": "94332ce7-41b5-4589-a63f-3d5d1be53cd7"
   },
   "outputs": [],
   "source": [
    "import os\n",
    "os.environ['DEEPCHEM_DATA_DIR']"
   ]
  },
  {
   "cell_type": "markdown",
   "metadata": {
    "id": "5X5JV_bWeFu8"
   },
   "source": [
    "## Load the data"
   ]
  },
  {
   "cell_type": "markdown",
   "metadata": {
    "id": "eF2o-1CBOkWw"
   },
   "source": [
    "### Cached data"
   ]
  },
  {
   "cell_type": "code",
   "execution_count": null,
   "metadata": {
    "colab": {
     "base_uri": "https://localhost:8080/",
     "height": 34.0
    },
    "id": "10vJTlOyOgDI",
    "outputId": "b5a8ce58-2232-4cb2-c3ca-7164084dbb52"
   },
   "outputs": [],
   "source": [
    "from google.colab import drive\n",
    "drive.mount('/content/drive')"
   ]
  },
  {
   "cell_type": "code",
   "execution_count": null,
   "metadata": {
    "colab": {
     "base_uri": "https://localhost:8080/",
     "height": 51.0
    },
    "id": "QNF41XIvT_aV",
    "outputId": "73f602dd-ab8e-4bec-c02c-59cbabf11b87"
   },
   "outputs": [],
   "source": [
    "from pathlib import Path\n",
    "import os\n",
    "\n",
    "print(os.listdir(DATA_DIR))\n",
    "print(os.listdir('/content/drive'))"
   ]
  },
  {
   "cell_type": "code",
   "execution_count": null,
   "metadata": {
    "id": "_01PfTuoO0ir"
   },
   "outputs": [],
   "source": [
    "# for unmounting\n",
    "# from google.colab import drive\n",
    "# drive.flush_and_unmount()"
   ]
  },
  {
   "cell_type": "code",
   "execution_count": null,
   "metadata": {
    "colab": {
     "base_uri": "https://localhost:8080/",
     "height": 85.0
    },
    "id": "olDr0t7bebrT",
    "outputId": "1a3159e8-efc2-4c04-c284-3cf5d867c248"
   },
   "outputs": [],
   "source": [
    "pdbbind_tasks, pdbbind_datasets, transformers = dc.molnet.load_pdbbind(\n",
    "    featurizer=\"grid\", split=\"random\", subset=\"core\", data_dir=DATA_DIR, save_dir=os.path.join(DATA_DIR, \"from-pdbbind\"), split_seed=100, reload=True\n",
    ")\n",
    "train_dataset, valid_dataset, test_dataset = pdbbind_datasets"
   ]
  },
  {
   "cell_type": "code",
   "execution_count": null,
   "metadata": {
    "id": "li9b7xPBfEuu"
   },
   "outputs": [],
   "source": [
    "@dataclass\n",
    "class OutputModel:\n",
    "    model: dc.models.MultitaskRegressor\n",
    "    layers: List[int]\n",
    "    dropout: Union[float, List[float]]\n",
    "    seed: int\n",
    "    train_score: Optional[float]\n",
    "    test_score: Optional[float]\n",
    "\n",
    "\n",
    "def create_model(\n",
    "    layer_sizes: List[int], dropouts: Union[float, List[float]], learning_rate: float = 0.0003\n",
    ") -> dc.models.MultitaskRegressor:\n",
    "    n_features = train_dataset.X.shape[1]\n",
    "    model = dc.models.MultitaskRegressor(\n",
    "        n_tasks=len(pdbbind_tasks),\n",
    "        n_features=n_features,\n",
    "        layer_sizes=layer_sizes,\n",
    "        dropouts=dropouts,\n",
    "        learning_rate=learning_rate,\n",
    "        model_dir=f\"{ROOT_DIR}/model_dumps/pdbbind_nn__{'-'.join(map(str, layer_sizes))}_dropout_{dropouts}_learningrate_{learning_rate}\",\n",
    "    )\n",
    "    return model\n",
    "\n",
    "\n",
    "def evaluate_model(model: dc.models.MultitaskRegressor) -> Tuple[float, float]:\n",
    "    metric = dc.metrics.Metric(dc.metrics.pearson_r2_score)\n",
    "    train_scores = model.evaluate(train_dataset, [metric], transformers)[\"pearson_r2_score\"]\n",
    "    test_scores = model.evaluate(test_dataset, [metric], transformers)[\"pearson_r2_score\"]\n",
    "    return train_scores, test_scores\n",
    "\n",
    "\n",
    "def visualize_model_output(model: OutputModel) -> NoReturn:\n",
    "    print(\n",
    "        f\"\"\"############################################################\n",
    "Visualizing {model.model.__class__.__name__} model\n",
    "  Training score: {model.train_score}\n",
    "  Test score: {model.test_score}\n",
    "  Hyperparameters: \n",
    "    Layers: {model.layers} \n",
    "    Dropout: {model.dropout}\n",
    "    Seed: {model.seed}\n",
    "\n",
    "Model summary:\n",
    "\"\"\")\n",
    "    model.model.model.summary()\n",
    "    print(\"############################################################\")"
   ]
  },
  {
   "cell_type": "code",
   "execution_count": null,
   "metadata": {
    "colab": {
     "base_uri": "https://localhost:8080/",
     "height": 34.0
    },
    "id": "EB-I-yZhWF1G",
    "outputId": "a70ed9d7-37d0-4d36-a449-c3ba9583014d"
   },
   "outputs": [],
   "source": [
    "layers_list = [\n",
    "    # [125, 62],\n",
    "    # [250, 125],\n",
    "    # [500, 250],\n",
    "    # [1000, 500],\n",
    "    # [2000, 1000],\n",
    "    # [4000, 2000],\n",
    "    [2000, 1000, 500, 250],\n",
    "]\n",
    "\n",
    "dropouts_list = [0.2, 0.5, 0.8]\n",
    "\n",
    "seeds = [0, 10, 100, 1000]\n",
    "\n",
    "hyperparameters = list(itertools.product(layers_list, dropouts_list, seeds))\n",
    "\n",
    "(layers_list, dropouts_list, seeds)"
   ]
  },
  {
   "cell_type": "code",
   "execution_count": null,
   "metadata": {
    "id": "9GdPvMu7WuLG"
   },
   "outputs": [],
   "source": [
    "nn_models = []"
   ]
  },
  {
   "cell_type": "code",
   "execution_count": null,
   "metadata": {
    "colab": {
     "base_uri": "https://localhost:8080/",
     "height": 598.0
    },
    "id": "5vINhrq6WU2G",
    "outputId": "beac53ee-702c-446c-a59c-66b8aa73407e"
   },
   "outputs": [],
   "source": [
    "for i in tqdm(range(len(hyperparameters))):\n",
    "    if i < len(models):\n",
    "        continue\n",
    "    layers, dropout, seed = hyperparameters[i]\n",
    "    random.seed(seed)\n",
    "    model = create_model(layer_sizes=layers, dropouts=dropout)\n",
    "    model.fit(train_dataset, nb_epoch=50)\n",
    "    train_score, test_score = evaluate_model(model=model)\n",
    "    models.append(\n",
    "        OutputModel(\n",
    "            model=model,\n",
    "            layers=layers,\n",
    "            dropout=dropout,\n",
    "            seed=seed,\n",
    "            train_score=train_score,\n",
    "            test_score=test_score,\n",
    "        )\n",
    "    )"
   ]
  },
  {
   "cell_type": "code",
   "execution_count": null,
   "metadata": {
    "colab": {
     "base_uri": "https://localhost:8080/"
    },
    "id": "k4lIxOQvWfDW",
    "outputId": "a56dbb7d-dcd9-4c8e-a59e-043bc6c6ee74"
   },
   "outputs": [],
   "source": [
    "for model in models:\n",
    "    visualize_model_output(model)"
   ]
  }
 ],
 "metadata": {
  "accelerator": "GPU",
  "colab": {
   "collapsed_sections": [],
   "name": "Experimenting with protein binding (deepchem chapter 5).ipynb",
   "provenance": []
  },
  "kernelspec": {
   "display_name": "Python 3",
   "language": "python",
   "name": "python3"
  },
  "language_info": {
   "codemirror_mode": {
    "name": "ipython",
    "version": 3
   },
   "file_extension": ".py",
   "mimetype": "text/x-python",
   "name": "python",
   "nbconvert_exporter": "python",
   "pygments_lexer": "ipython3",
   "version": "3.7.6"
  }
 },
 "nbformat": 4,
 "nbformat_minor": 1
}
