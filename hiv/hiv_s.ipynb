{
 "nbformat": 4,
 "nbformat_minor": 0,
 "metadata": {
  "accelerator": "GPU",
  "colab": {
   "name": "Experimenting with protein binding (deepchem chapter 5).ipynb",
   "provenance": [],
   "collapsed_sections": []
  },
  "kernelspec": {
   "display_name": "Python 3",
   "language": "python",
   "name": "python3"
  },
  "language_info": {
   "codemirror_mode": {
    "name": "ipython",
    "version": 3
   },
   "file_extension": ".py",
   "mimetype": "text/x-python",
   "name": "python",
   "nbconvert_exporter": "python",
   "pygments_lexer": "ipython3",
   "version": "3.7.6"
  }
 },
 "cells": [
  {
   "cell_type": "markdown",
   "metadata": {
    "id": "MDXmIhYHc_93"
   },
   "source": [
    "## Install deepchem"
   ]
  },
  {
   "cell_type": "markdown",
   "metadata": {
    "id": "6Nz_qCDCL8ij"
   },
   "source": [
    "### Colab"
   ]
  },
  {
   "cell_type": "code",
   "metadata": {
    "id": "bhZ3pQn7c54i"
   },
   "source": [
    "!curl -Lo conda_installer.py https://raw.githubusercontent.com/deepchem/deepchem/master/scripts/colab_install.py\n",
    "import conda_installer\n",
    "conda_installer.install()\n",
    "!/root/miniconda/bin/conda info -e"
   ],
   "execution_count": null,
   "outputs": []
  },
  {
   "cell_type": "code",
   "metadata": {
    "id": "CnQXCr6pdFTB"
   },
   "source": [
    "!pip install --pre deepchem-nightly==2.3.0\n",
    "import deepchem\n",
    "deepchem.__version__"
   ],
   "execution_count": null,
   "outputs": []
  },
  {
   "cell_type": "code",
   "metadata": {
    "id": "82ZLGcRtw_l7"
   },
   "source": [
    "import tensorflow\n",
    "\n",
    "\n",
    "device_name = tensorflow.test.gpu_device_name()\n",
    "if device_name != '/device:GPU:0':\n",
    "  raise SystemError('GPU device not found')\n",
    "print('Found GPU at: {}'.format(device_name))\n",
    "\n",
    "tensorflow.__version__"
   ],
   "execution_count": null,
   "outputs": []
  },
  {
   "cell_type": "markdown",
   "metadata": {
    "id": "Qwr6yb6HZ7FD"
   },
   "source": [
    "## Initialize"
   ]
  },
  {
   "cell_type": "code",
   "metadata": {
    "id": "nWHfkLbueWZ7"
   },
   "source": [
    "import itertools\n",
    "from dataclasses import dataclass\n",
    "from sklearn.ensemble import RandomForestRegressor\n",
    "from typing import Union, List, Tuple, NoReturn, Optional\n",
    "import random\n",
    "import os\n",
    "\n",
    "import deepchem as dc\n",
    "from deepchem.models import KerasModel\n",
    "from tqdm import tqdm\n",
    "\n",
    "ROOT_DIR = \"/content/drive/My Drive/Colab Notebooks/deep learning for the life sciences/chapter_5_protein_binding\"\n",
    "DATA_DIR = os.path.join(ROOT_DIR, \"data\")"
   ],
   "execution_count": null,
   "outputs": []
  },
  {
   "cell_type": "code",
   "metadata": {
    "id": "Kfk4ZnVSQUHD"
   },
   "source": [
    "%env DEEPCHEM_DATA_DIR=/content/drive/My Drive/Colab Notebooks/deep learning for the life sciences/chapter_5_protein_binding/data\n",
    "%env"
   ],
   "execution_count": null,
   "outputs": []
  },
  {
   "cell_type": "code",
   "metadata": {
    "id": "ALjOk6UtsJdH"
   },
   "source": [
    "import os\n",
    "os.environ['DEEPCHEM_DATA_DIR']"
   ],
   "execution_count": null,
   "outputs": []
  },
  {
   "cell_type": "markdown",
   "metadata": {
    "id": "5X5JV_bWeFu8"
   },
   "source": [
    "## Load the data"
   ]
  },
  {
   "cell_type": "markdown",
   "metadata": {
    "id": "eF2o-1CBOkWw"
   },
   "source": [
    "### Cached data"
   ]
  },
  {
   "cell_type": "code",
   "metadata": {
    "id": "10vJTlOyOgDI"
   },
   "source": [
    "from google.colab import drive\n",
    "drive.mount('/content/drive')"
   ],
   "execution_count": null,
   "outputs": []
  },
  {
   "cell_type": "code",
   "metadata": {
    "id": "QNF41XIvT_aV"
   },
   "source": [
    "from pathlib import Path\n",
    "import os\n",
    "\n",
    "print(os.listdir(DATA_DIR))\n",
    "print(os.listdir('/content/drive'))"
   ],
   "execution_count": null,
   "outputs": []
  },
  {
   "cell_type": "code",
   "metadata": {
    "id": "_01PfTuoO0ir",
    "pycharm": {
     "name": "#%%\n"
    }
   },
   "source": [
    "# for unmounting\n",
    "# from google.colab import drive\n",
    "# drive.flush_and_unmount()\n"
   ],
   "execution_count": null,
   "outputs": []
  }
 ]
}