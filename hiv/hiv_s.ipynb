{
 "nbformat": 4,
 "nbformat_minor": 0,
 "metadata": {
  "accelerator": "GPU",
  "colab": {
   "name": "Experimenting with hiv dataset.ipynb",
   "provenance": [],
   "collapsed_sections": []
  },
  "kernelspec": {
   "display_name": "Python 3",
   "language": "python",
   "name": "python3"
  },
  "language_info": {
   "codemirror_mode": {
    "name": "ipython",
    "version": 3
   },
   "file_extension": ".py",
   "mimetype": "text/x-python",
   "name": "python",
   "nbconvert_exporter": "python",
   "pygments_lexer": "ipython3",
   "version": "3.7.6"
  }
 },
 "cells": [
  {
   "cell_type": "markdown",
   "metadata": {
    "collapsed": false,
    "id": "xvM9KMtpGyPs"
   },
   "source": [
    "## Install deepchem"
   ]
  },
  {
   "cell_type": "markdown",
   "metadata": {
    "collapsed": false,
    "id": "jwUt6P4nGyQC"
   },
   "source": [
    "### Colab"
   ]
  },
  {
   "cell_type": "code",
   "metadata": {
    "pycharm": {
     "name": "#%%\n"
    },
    "id": "gPMubnZIGyQn"
   },
   "source": [
    "!curl -Lo conda_installer.py https://raw.githubusercontent.com/deepchem/deepchem/master/scripts/colab_install.py\n",
    "import conda_installer\n",
    "conda_installer.install()\n",
    "!/root/miniconda/bin/conda info -e"
   ],
   "execution_count": null,
   "outputs": []
  },
  {
   "cell_type": "code",
   "metadata": {
    "pycharm": {
     "name": "#%%\n"
    },
    "id": "NlXh7o2cGySH"
   },
   "source": [
    "!pip install --pre deepchem\n",
    "import deepchem as dc\n",
    "dc.__version__"
   ],
   "execution_count": null,
   "outputs": []
  },
  {
   "cell_type": "code",
   "metadata": {
    "pycharm": {
     "name": "#%%\n"
    },
    "id": "e-eVdOocGySt"
   },
   "source": [
    "import tensorflow as tf\n",
    "\n",
    "\n",
    "device_name = tf.test.gpu_device_name()\n",
    "if device_name != '/device:GPU:0':\n",
    "  raise SystemError('GPU device not found')\n",
    "print('Found GPU at: {}'.format(device_name))\n",
    "\n",
    "tf.__version__"
   ],
   "execution_count": null,
   "outputs": []
  },
  {
   "cell_type": "markdown",
   "metadata": {
    "collapsed": false,
    "id": "Jm1hq5SIGyUG"
   },
   "source": [
    "## Initialize"
   ]
  },
  {
   "cell_type": "code",
   "metadata": {
    "pycharm": {
     "name": "#%%\n"
    },
    "id": "sEf2zc58GyUn"
   },
   "source": [
    "import itertools\n",
    "import pandas as pd\n",
    "import numpy as np\n",
    "from dataclasses import dataclass\n",
    "from typing import Union, List, Tuple, NoReturn, Optional\n",
    "import random\n",
    "import os\n",
    "\n",
    "import deepchem as dc\n",
    "from tqdm import tqdm\n",
    "\n",
    "ROOT_DIR = \"/content/drive/My Drive/Colab Notebooks/deep learning for the life sciences/hiv\"\n",
    "DATA_DIR = os.path.join(ROOT_DIR, \"data\")"
   ],
   "execution_count": null,
   "outputs": []
  },
  {
   "cell_type": "code",
   "metadata": {
    "pycharm": {
     "name": "#%%\n"
    },
    "id": "-C_8y4xEGyXX"
   },
   "source": [
    "%env DEEPCHEM_DATA_DIR=/content/drive/My Drive/Colab Notebooks/deep learning for the life sciences/hiv/data"
   ],
   "execution_count": null,
   "outputs": []
  },
  {
   "cell_type": "code",
   "metadata": {
    "pycharm": {
     "name": "#%%\n"
    },
    "id": "Itwab5buGybK"
   },
   "source": [
    "import os\n",
    "os.environ['DEEPCHEM_DATA_DIR']"
   ],
   "execution_count": null,
   "outputs": []
  },
  {
   "cell_type": "markdown",
   "metadata": {
    "collapsed": false,
    "id": "Ahl0JtOJGyc5"
   },
   "source": [
    "## Load the data"
   ]
  },
  {
   "cell_type": "markdown",
   "metadata": {
    "collapsed": false,
    "id": "T3Kq1NMaGyc8"
   },
   "source": [
    "### Cached data"
   ]
  },
  {
   "cell_type": "code",
   "metadata": {
    "pycharm": {
     "name": "#%%\n"
    },
    "id": "grlUnIlKGydh"
   },
   "source": [
    "from google.colab import drive\n",
    "drive.mount('/content/drive')"
   ],
   "execution_count": null,
   "outputs": []
  },
  {
   "cell_type": "code",
   "metadata": {
    "pycharm": {
     "name": "#%%\n"
    },
    "id": "E51ik162GyfR"
   },
   "source": [
    "from pathlib import Path\n",
    "import os\n",
    "\n",
    "print(os.listdir(DATA_DIR))\n",
    "print(os.listdir('/content/drive/My Drive/Colab Notebooks/deep learning for the life sciences'))"
   ],
   "execution_count": null,
   "outputs": []
  },
  {
   "cell_type": "code",
   "metadata": {
    "pycharm": {
     "name": "#%%\n"
    },
    "id": "DPZGn2D5GygP"
   },
   "source": [
    "# for unmounting\n",
    "# from google.colab import drive\n",
    "# drive.flush_and_unmount()"
   ],
   "execution_count": null,
   "outputs": []
  },
  {
   "cell_type": "code",
   "metadata": {
    "pycharm": {
     "name": "#%%\n"
    },
    "id": "BSkca1FSGyhH"
   },
   "source": [
    "data = pd.read_csv(Path(DATA_DIR) / \"HIV.csv\")"
   ],
   "execution_count": null,
   "outputs": []
  },
  {
   "cell_type": "code",
   "metadata": {
    "pycharm": {
     "name": "#%%\n"
    },
    "id": "CYFKg5QVGyic"
   },
   "source": [
    "data.shape"
   ],
   "execution_count": null,
   "outputs": []
  },
  {
   "cell_type": "code",
   "metadata": {
    "pycharm": {
     "name": "#%%\n"
    },
    "id": "j3F9RP3hGyjq"
   },
   "source": [
    "data[\"HIV_active\"] == 1"
   ],
   "execution_count": null,
   "outputs": []
  },
  {
   "cell_type": "code",
   "metadata": {
    "pycharm": {
     "name": "#%%\n"
    },
    "id": "I75nM4c7Gyk6"
   },
   "source": [
    "data.head()"
   ],
   "execution_count": null,
   "outputs": []
  },
  {
   "cell_type": "code",
   "metadata": {
    "pycharm": {
     "name": "#%%\n"
    },
    "id": "oQDs8ZRvGyl-"
   },
   "source": [
    "data[data[\"HIV_active\"] == 1]"
   ],
   "execution_count": null,
   "outputs": []
  },
  {
   "cell_type": "code",
   "metadata": {
    "pycharm": {
     "name": "#%%\n"
    },
    "id": "_C_oOF57Gym2"
   },
   "source": [
    "hiv_tasks, hiv_datasets, transformers = dc.molnet.load_hiv(\n",
    "    featurizer=\"ECFP\", split=\"random\", data_dir=DATA_DIR, save_dir=os.path.join(DATA_DIR, \"from-hiv\"), split_seed=100, reload=True\n",
    ")\n",
    "train_dataset, valid_dataset, test_dataset = hiv_datasets"
   ],
   "execution_count": null,
   "outputs": []
  },
  {
   "cell_type": "markdown",
   "metadata": {
    "collapsed": false,
    "id": "bY-iemzzGyny"
   },
   "source": [
    "## Preprocessing"
   ]
  },
  {
   "cell_type": "code",
   "metadata": {
    "pycharm": {
     "name": "#%%\n"
    },
    "id": "7EuJwgHKGyn4"
   },
   "source": [
    "training_df = train_dataset.to_dataframe()\n",
    "training_df.head()"
   ],
   "execution_count": null,
   "outputs": []
  },
  {
   "cell_type": "code",
   "metadata": {
    "pycharm": {
     "name": "#%%\n"
    },
    "id": "cUhqJsXuGypP"
   },
   "source": [
    "training_df[training_df[\"y\"] == 1]"
   ],
   "execution_count": null,
   "outputs": []
  },
  {
   "cell_type": "markdown",
   "metadata": {
    "collapsed": false,
    "id": "9xIKjE1tGyrd"
   },
   "source": [
    "## Training"
   ]
  },
  {
   "cell_type": "markdown",
   "metadata": {
    "collapsed": false,
    "id": "RFOFVMfEGyrr"
   },
   "source": [
    "### Hyperparameters"
   ]
  },
  {
   "cell_type": "code",
   "metadata": {
    "pycharm": {
     "name": "#%%\n"
    },
    "id": "TWeS6e1HGyru"
   },
   "source": [
    "layers_list = [\n",
    "    [62, 31],\n",
    "    [125, 62],\n",
    "    # [250, 125],\n",
    "    # [500, 250],\n",
    "    [1000, 500],\n",
    "    # [2000, 1000],\n",
    "    # [4000, 2000],\n",
    "    # [2000, 1000, 500, 250],\n",
    "]\n",
    "\n",
    "dropouts_list = [0.8]\n",
    "\n",
    "seeds = [0]\n",
    "\n",
    "hyperparameters = list(itertools.product(layers_list, dropouts_list, seeds))\n",
    "\n",
    "(layers_list, dropouts_list, seeds)"
   ],
   "execution_count": null,
   "outputs": []
  },
  {
   "cell_type": "code",
   "metadata": {
    "pycharm": {
     "name": "#%%\n"
    },
    "id": "NGzYK3HXGysz"
   },
   "source": [
    "nn_models = []"
   ],
   "execution_count": null,
   "outputs": []
  },
  {
   "cell_type": "code",
   "metadata": {
    "pycharm": {
     "name": "#%%\n"
    },
    "id": "lYqVQnQoGyt0"
   },
   "source": [
    "@dataclass\n",
    "class OutputModel:\n",
    "    model: Union[dc.models.Model, dc.models.sklearn_models.SklearnModel]\n",
    "    layers: Optional[List[int]]\n",
    "    dropout: Optional[Union[float, List[float]]]\n",
    "    seed: int\n",
    "    train_score: Optional[float] = None\n",
    "    test_score: Optional[float] = None\n",
    "    valid_score: Optional[float] = None"
   ],
   "execution_count": null,
   "outputs": []
  },
  {
   "cell_type": "code",
   "metadata": {
    "pycharm": {
     "name": "#%%\n"
    },
    "id": "Z4-4sc-WGyuv"
   },
   "source": [
    "def create_nn_model(\n",
    "    layer_sizes: List[int], dropouts: Union[float, List[float]], learning_rate: float = 0.0003\n",
    ") -> dc.models.Model:\n",
    "    n_features = train_dataset.X.shape[1]\n",
    "    model = dc.models.MultitaskClassifier(\n",
    "        n_tasks=len(hiv_tasks),\n",
    "        n_features=n_features,\n",
    "        layer_sizes=layer_sizes,\n",
    "        dropouts=dropouts,\n",
    "        learning_rate=learning_rate,\n",
    "        model_dir=f\"{ROOT_DIR}/model_dumps/hiv_nn__{'-'.join(map(str, layer_sizes))}_dropout_{dropouts}_learningrate_{learning_rate}\",\n",
    "    )\n",
    "    return model"
   ],
   "execution_count": null,
   "outputs": []
  },
  {
   "cell_type": "markdown",
   "source": [
    "### Do training"
   ],
   "metadata": {
    "collapsed": false,
    "pycharm": {
     "name": "#%% md\n"
    }
   }
  },
  {
   "cell_type": "code",
   "metadata": {
    "pycharm": {
     "name": "#%%\n"
    },
    "id": "M2MV0IkaGyvH"
   },
   "source": [
    "for i in tqdm(range(len(hyperparameters))):\n",
    "    layers, dropout, seed = hyperparameters[i]\n",
    "    model_nn = create_nn_model(layer_sizes=layers, dropouts=dropout)\n",
    "    model_nn.fit(train_dataset, nb_epoch=50)\n",
    "    nn_models.append(\n",
    "        OutputModel(\n",
    "            model=model_nn,\n",
    "            layers=layers,\n",
    "            dropout=dropout,\n",
    "            seed=seed,\n",
    "        )\n",
    "    )"
   ],
   "execution_count": null,
   "outputs": []
  },
  {
   "cell_type": "markdown",
   "metadata": {
    "collapsed": false,
    "id": "IbyoxBuwGywP"
   },
   "source": [
    "## Evaulating"
   ]
  },
  {
   "cell_type": "code",
   "metadata": {
    "id": "axH4kCTFHUCu"
   },
   "source": [
    "def visualize_model_output(model: OutputModel) -> NoReturn:\n",
    "    print(\n",
    "        f\"\"\"############################################################\n",
    "Visualizing {model.model.__class__.__name__} model\n",
    "  Training score: {model.train_score}\n",
    "  Test score:     {model.test_score}\n",
    "  Valid score:    {model.valid_score}\n",
    "  Hyperparameters: \n",
    "    Seed: {model.seed}\n",
    "    Layers: {model.layers} \n",
    "    Dropout: {model.dropout}\n",
    "\n",
    "Model summary:\n",
    "\"\"\")\n",
    "    if issubclass(type(model.model), dc.models.KerasModel):\n",
    "        model.model.model.summary()\n",
    "    elif issubclass(type(model.model), dc.models.sklearn_models.SklearnModel):\n",
    "      print(model.model.model_instance)\n",
    "    print(\"############################################################\")"
   ],
   "execution_count": null,
   "outputs": []
  },
  {
   "cell_type": "markdown",
   "source": [
    "### Compute metrics"
   ],
   "metadata": {
    "collapsed": false,
    "pycharm": {
     "name": "#%% md\n"
    }
   }
  },
  {
   "cell_type": "code",
   "metadata": {
    "id": "oK6voUr-HYu-"
   },
   "source": [
    "for model in nn_models:\n",
    "    roc_auc = dc.metrics.Metric(dc.metrics.roc_auc_score)\n",
    "    accuracy = dc.metrics.Metric(dc.metrics.accuracy_score, np.mean)\n",
    "    model.train_score = model.model.evaluate(dataset=train_dataset, metrics=[roc_auc, accuracy], transformers=transformers)\n",
    "    model.test_score = model.model.evaluate(dataset=test_dataset, metrics=[roc_auc, accuracy], transformers=transformers)\n",
    "    model.valid_score = model.model.evaluate(dataset=valid_dataset, metrics=[roc_auc, accuracy], transformers=transformers)\n",
    "    visualize_model_output(model)"
   ],
   "execution_count": null,
   "outputs": []
  },
  {
   "cell_type": "markdown",
   "source": [
    "### Plot roc auc curve"
   ],
   "metadata": {
    "collapsed": false,
    "pycharm": {
     "name": "#%% md\n"
    }
   }
  },
  {
   "cell_type": "code",
   "execution_count": null,
   "outputs": [],
   "source": [
    "import sklearn.metrics as metrics\n",
    "import matplotlib.pyplot as plt\n",
    "\n",
    "fprs, tprs, thresholds, roc_aucs = [], [], [], []\n",
    "\n",
    "for model in nn_models:\n",
    "  preds = model.model.predict(train_dataset)[:,0, 1]\n",
    "\n",
    "  fpr, tpr, threshold = metrics.roc_curve(train_dataset.y[:,0].astype(int), preds)\n",
    "  roc_auc = metrics.auc(fpr, tpr)\n",
    "  fprs.append(fpr)\n",
    "  tprs.append(tpr)\n",
    "  roc_aucs.append(roc_auc)\n",
    "\n",
    "for i in range(len(fprs)):\n",
    "  print(nn_models[i].layers)\n",
    "  plt.title('Receiver Operating Characteristic')\n",
    "  plt.plot(fprs[i], tprs[i], 'b', label = 'AUC = %0.2f' % roc_aucs[i])\n",
    "  plt.legend(loc = 'lower right')\n",
    "  plt.plot([0, 1], [0, 1],'r--')\n",
    "  plt.xlim([0, 1])\n",
    "  plt.ylim([0, 1])\n",
    "  plt.ylabel('True Positive Rate')\n",
    "  plt.xlabel('False Positive Rate')\n",
    "  plt.show()"
   ],
   "metadata": {
    "collapsed": false,
    "pycharm": {
     "name": "#%%\n"
    }
   }
  }
 ]
}