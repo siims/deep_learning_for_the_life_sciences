{
  "nbformat": 4,
  "nbformat_minor": 0,
  "metadata": {
    "accelerator": "GPU",
    "colab": {
      "name": "Experimenting with protein binding (deepchem chapter 5).ipynb",
      "provenance": [],
      "collapsed_sections": []
    },
    "kernelspec": {
      "display_name": "Python 3",
      "language": "python",
      "name": "python3"
    },
    "language_info": {
      "codemirror_mode": {
        "name": "ipython",
        "version": 3
      },
      "file_extension": ".py",
      "mimetype": "text/x-python",
      "name": "python",
      "nbconvert_exporter": "python",
      "pygments_lexer": "ipython3",
      "version": "3.7.6"
    }
  },
  "cells": [
    {
      "cell_type": "markdown",
      "metadata": {
        "id": "MDXmIhYHc_93"
      },
      "source": [
        "## Install deepchem"
      ]
    },
    {
      "cell_type": "markdown",
      "metadata": {
        "id": "6Nz_qCDCL8ij"
      },
      "source": [
        "### Colab"
      ]
    },
    {
      "cell_type": "code",
      "metadata": {
        "id": "bhZ3pQn7c54i"
      },
      "source": [
        "!curl -Lo conda_installer.py https://raw.githubusercontent.com/deepchem/deepchem/master/scripts/colab_install.py\n",
        "import conda_installer\n",
        "conda_installer.install()\n",
        "!/root/miniconda/bin/conda info -e"
      ],
      "execution_count": null,
      "outputs": []
    },
    {
      "cell_type": "code",
      "metadata": {
        "id": "CnQXCr6pdFTB"
      },
      "source": [
        "!pip install --pre deepchem\n",
        "import deepchem as dc\n",
        "dc.__version__"
      ],
      "execution_count": null,
      "outputs": []
    },
    {
      "cell_type": "code",
      "metadata": {
        "id": "82ZLGcRtw_l7"
      },
      "source": [
        "import tensorflow as tf\n",
        "\n",
        "\n",
        "device_name = tf.test.gpu_device_name()\n",
        "if device_name != '/device:GPU:0':\n",
        "  raise SystemError('GPU device not found')\n",
        "print('Found GPU at: {}'.format(device_name))\n",
        "\n",
        "tf.__version__"
      ],
      "execution_count": null,
      "outputs": []
    },
    {
      "cell_type": "markdown",
      "metadata": {
        "id": "Qwr6yb6HZ7FD"
      },
      "source": [
        "## Initialize"
      ]
    },
    {
      "cell_type": "code",
      "metadata": {
        "id": "nWHfkLbueWZ7"
      },
      "source": [
        "import itertools\n",
        "import pandas as pd\n",
        "from dataclasses import dataclass\n",
        "from typing import Union, List, Tuple, NoReturn, Optional\n",
        "import random\n",
        "import os\n",
        "\n",
        "import deepchem as dc\n",
        "from tqdm import tqdm\n",
        "\n",
        "ROOT_DIR = \"/content/drive/My Drive/Colab Notebooks/deep learning for the life sciences/hiv\"\n",
        "DATA_DIR = os.path.join(ROOT_DIR, \"data\")"
      ],
      "execution_count": null,
      "outputs": []
    },
    {
      "cell_type": "code",
      "metadata": {
        "id": "Kfk4ZnVSQUHD"
      },
      "source": [
        "%env DEEPCHEM_DATA_DIR=/content/drive/My Drive/Colab Notebooks/deep learning for the life sciences/hiv/data"
      ],
      "execution_count": null,
      "outputs": []
    },
    {
      "cell_type": "code",
      "metadata": {
        "id": "ALjOk6UtsJdH"
      },
      "source": [
        "import os\n",
        "os.environ['DEEPCHEM_DATA_DIR']"
      ],
      "execution_count": null,
      "outputs": []
    },
    {
      "cell_type": "markdown",
      "metadata": {
        "id": "5X5JV_bWeFu8"
      },
      "source": [
        "## Load the data"
      ]
    },
    {
      "cell_type": "markdown",
      "metadata": {
        "id": "eF2o-1CBOkWw"
      },
      "source": [
        "### Cached data"
      ]
    },
    {
      "cell_type": "code",
      "metadata": {
        "id": "10vJTlOyOgDI"
      },
      "source": [
        "from google.colab import drive\n",
        "drive.mount('/content/drive')"
      ],
      "execution_count": null,
      "outputs": []
    },
    {
      "cell_type": "code",
      "metadata": {
        "id": "QNF41XIvT_aV"
      },
      "source": [
        "from pathlib import Path\n",
        "import os\n",
        "\n",
        "print(os.listdir(DATA_DIR))\n",
        "print(os.listdir('/content/drive/My Drive/Colab Notebooks/deep learning for the life sciences'))"
      ],
      "execution_count": null,
      "outputs": []
    },
    {
      "cell_type": "code",
      "metadata": {
        "id": "_01PfTuoO0ir",
        "pycharm": {
          "name": "#%%\n"
        }
      },
      "source": [
        "# for unmounting\n",
        "# from google.colab import drive\n",
        "# drive.flush_and_unmount()"
      ],
      "execution_count": null,
      "outputs": []
    },
    {
      "cell_type": "code",
      "metadata": {
        "id": "BVtGDia35cFK"
      },
      "source": [
        "data = pd.read_csv(Path(DATA_DIR) / \"HIV.csv\")"
      ],
      "execution_count": null,
      "outputs": []
    },
    {
      "cell_type": "code",
      "metadata": {
        "id": "7Zpp6unu56cY"
      },
      "source": [
        "data.shape"
      ],
      "execution_count": null,
      "outputs": []
    },
    {
      "cell_type": "code",
      "metadata": {
        "id": "lVyQXnvI8rnD"
      },
      "source": [
        "data[\"HIV_active\"] == 1"
      ],
      "execution_count": null,
      "outputs": []
    },
    {
      "cell_type": "code",
      "metadata": {
        "id": "V7hhDjLq5oq6"
      },
      "source": [
        "data.head()"
      ],
      "execution_count": null,
      "outputs": []
    },
    {
      "cell_type": "code",
      "metadata": {
        "id": "ar1ONPI45sxr"
      },
      "source": [
        "data[data[\"HIV_active\"] == 1]"
      ],
      "execution_count": null,
      "outputs": []
    },
    {
      "cell_type": "code",
      "metadata": {
        "id": "aXbEWBWH6sdq"
      },
      "source": [
        "hiv_tasks, hiv_datasets, transformers = dc.molnet.load_hiv(\n",
        "    featurizer=\"ECFP\", split=\"random\", data_dir=DATA_DIR, save_dir=os.path.join(DATA_DIR, \"from-hiv\"), split_seed=100, reload=True\n",
        ")\n",
        "train_dataset, valid_dataset, test_dataset = hiv_datasets"
      ],
      "execution_count": null,
      "outputs": []
    },
    {
      "cell_type": "markdown",
      "metadata": {
        "id": "SKLfyFmV5WxM"
      },
      "source": [
        "## Preprocessing"
      ]
    },
    {
      "cell_type": "code",
      "metadata": {
        "id": "Lx61i0ij5WRF"
      },
      "source": [
        "training_df = train_dataset.to_dataframe()\n",
        "training_df.head()"
      ],
      "execution_count": null,
      "outputs": []
    },
    {
      "cell_type": "code",
      "metadata": {
        "id": "r8VdSCiqBQVh"
      },
      "source": [
        "training_df[training_df[\"y\"] == 1]"
      ],
      "execution_count": null,
      "outputs": []
    },
    {
      "cell_type": "markdown",
      "metadata": {
        "id": "mTMsSTXG6a1Q"
      },
      "source": [
        "## Training"
      ]
    },
    {
      "cell_type": "markdown",
      "metadata": {
        "id": "psyNzUbj_AHq"
      },
      "source": [
        "### Hyperparameters"
      ]
    },
    {
      "cell_type": "code",
      "metadata": {
        "id": "_hUc1nw9--Ki"
      },
      "source": [
        "layers_list = [\n",
        "    [125, 62],\n",
        "    # [250, 125],\n",
        "    # [500, 250],\n",
        "    # [1000, 500],\n",
        "    # [2000, 1000],\n",
        "    # [4000, 2000],\n",
        "    # [2000, 1000, 500, 250],\n",
        "]\n",
        "\n",
        "dropouts_list = [0.8]\n",
        "\n",
        "seeds = [0]\n",
        "\n",
        "hyperparameters = list(itertools.product(layers_list, dropouts_list, seeds))\n",
        "\n",
        "(layers_list, dropouts_list, seeds)"
      ],
      "execution_count": null,
      "outputs": []
    },
    {
      "cell_type": "code",
      "metadata": {
        "id": "9uVJqB4W6fav"
      },
      "source": [
        "nn_models = []"
      ],
      "execution_count": null,
      "outputs": []
    },
    {
      "cell_type": "code",
      "metadata": {
        "id": "xnZchjOd9XDs"
      },
      "source": [
        "@dataclass\n",
        "class OutputModel:\n",
        "    model: Union[dc.models.Model, dc.models.sklearn_models.SklearnModel]\n",
        "    layers: Optional[List[int]]\n",
        "    dropout: Optional[Union[float, List[float]]]\n",
        "    seed: int\n",
        "    train_score: Optional[float] = None\n",
        "    test_score: Optional[float] = None"
      ],
      "execution_count": null,
      "outputs": []
    },
    {
      "cell_type": "code",
      "metadata": {
        "id": "8OR_eJnP6c4-"
      },
      "source": [
        "def create_nn_model(\n",
        "    layer_sizes: List[int], dropouts: Union[float, List[float]], learning_rate: float = 0.0003\n",
        ") -> dc.models.Model:\n",
        "    n_features = train_dataset.X.shape[1]\n",
        "    model = dc.models.MultitaskClassifier(\n",
        "        n_tasks=len(hiv_tasks),\n",
        "        n_features=n_features,\n",
        "        layer_sizes=layer_sizes,\n",
        "        dropouts=dropouts,\n",
        "        learning_rate=learning_rate,\n",
        "        model_dir=f\"{ROOT_DIR}/model_dumps/hiv_nn__{'-'.join(map(str, layer_sizes))}_dropout_{dropouts}_learningrate_{learning_rate}\",\n",
        "    )\n",
        "    return model"
      ],
      "execution_count": null,
      "outputs": []
    },
    {
      "cell_type": "code",
      "metadata": {
        "id": "BZF3lSwA_OaK"
      },
      "source": [
        "for i in tqdm(range(len(hyperparameters))):\n",
        "    layers, dropout, seed = hyperparameters[i]\n",
        "    model_nn = create_nn_model(layer_sizes=layers, dropouts=dropout)\n",
        "    model_nn.fit(train_dataset, nb_epoch=50)\n",
        "    nn_models.append(\n",
        "        OutputModel(\n",
        "            model=model_nn,\n",
        "            layers=layers,\n",
        "            dropout=dropout,\n",
        "            seed=seed,\n",
        "        )\n",
        "    )"
      ],
      "execution_count": null,
      "outputs": []
    },
    {
      "cell_type": "code",
      "metadata": {
        "id": "AJFEACmG_WJC"
      },
      "source": [
        ""
      ],
      "execution_count": null,
      "outputs": []
    },
    {
      "cell_type": "markdown",
      "metadata": {
        "id": "_7KxTRRz6dk8"
      },
      "source": [
        "## Evaulating"
      ]
    },
    {
      "cell_type": "code",
      "metadata": {
        "id": "n9gynW7G_Iqo"
      },
      "source": [
        "transformers"
      ],
      "execution_count": null,
      "outputs": []
    },
    {
      "cell_type": "code",
      "metadata": {
        "id": "tIid-VwvBnsD"
      },
      "source": [
        "len(nn_models)"
      ],
      "execution_count": null,
      "outputs": []
    },
    {
      "cell_type": "code",
      "metadata": {
        "id": "LuKoqlijBqAU"
      },
      "source": [
        "nn_models[0].model.model.summary()"
      ],
      "execution_count": null,
      "outputs": []
    }
  ]
}